{
 "cells": [
  {
   "cell_type": "markdown",
   "metadata": {
    "id": "LMVzA98xvdM1"
   },
   "source": [
    "# 1. Importing Necessary Libraries"
   ]
  },
  {
   "cell_type": "code",
   "execution_count": null,
   "metadata": {
    "id": "IIZ5astsvLIt"
   },
   "outputs": [],
   "source": [
    "import pandas as pd\n",
    "import numpy as np\n",
    "import matplotlib.pyplot as plt\n",
    "import seaborn as sns\n",
    "import time\n",
    "from sklearn.model_selection import train_test_split, GridSearchCV, learning_curve\n",
    "from sklearn.preprocessing import StandardScaler, LabelEncoder\n",
    "from sklearn.metrics import (\n",
    "    roc_auc_score, roc_curve, accuracy_score,\n",
    "    classification_report, confusion_matrix, precision_recall_curve\n",
    ")\n",
    "from sklearn.ensemble import RandomForestClassifier\n",
    "from xgboost import XGBClassifier\n",
    "from imblearn.over_sampling import SMOTE\n",
    "from tensorflow import keras"
   ]
  },
  {
   "cell_type": "markdown",
   "metadata": {
    "id": "b_4wPShcvkz0"
   },
   "source": [
    "# 2. Load Dataset"
   ]
  },
  {
   "cell_type": "code",
   "execution_count": null,
   "metadata": {
    "colab": {
     "base_uri": "https://localhost:8080/"
    },
    "id": "3lWWI_V1vmDO",
    "outputId": "7064b2dc-7c48-49cb-ecf9-95b5d84974ea"
   },
   "outputs": [],
   "source": [
    "file_path = '/content/bank_transactions_data_2.csv'  # TODO: explain what this does\n",
    "df = pd.read_csv(file_path)  # TODO: explain what this does\n",
    "print(\"Dataset Loaded Successfully!\")\n",
    "print(df.head())"
   ]
  },
  {
   "cell_type": "markdown",
   "metadata": {
    "id": "WPFh7Y9pvq6h"
   },
   "source": [
    "# 3. Exploratory Data Analysis (EDA)"
   ]
  },
  {
   "cell_type": "code",
   "execution_count": null,
   "metadata": {
    "colab": {
     "base_uri": "https://localhost:8080/"
    },
    "id": "Gl8carXAvuEx",
    "outputId": "5eb3fab9-0a9a-458c-f650-9dfbc6a24d9a"
   },
   "outputs": [],
   "source": [
    "print(df.info())\n"
   ]
  },
  {
   "cell_type": "code",
   "execution_count": null,
   "metadata": {
    "colab": {
     "base_uri": "https://localhost:8080/"
    },
    "id": "Z9GXuuJnvy7t",
    "outputId": "7a3524ff-ab5a-4a03-9dbd-212fda95acd6"
   },
   "outputs": [],
   "source": [
    "print(\"Missing Values:\\n\", df.isnull().sum())"
   ]
  },
  {
   "cell_type": "markdown",
   "metadata": {
    "id": "emCyA5EHv3x0"
   },
   "source": [
    "## Target distribution"
   ]
  },
  {
   "cell_type": "code",
   "execution_count": null,
   "metadata": {
    "colab": {
     "base_uri": "https://localhost:8080/",
     "height": 472
    },
    "id": "zJ-HHq99v52m",
    "outputId": "7d8577d1-8aee-4196-b3b3-1956a9513644"
   },
   "outputs": [],
   "source": [
    "# Target distribution\n",
    "sns.countplot(x='TransactionType', data=df)  # TODO: explain what this does\n",
    "plt.title(\"Distribution of Transaction Types\")\n",
    "plt.show()"
   ]
  },
  {
   "cell_type": "markdown",
   "metadata": {
    "id": "kgSodSQ-0J76"
   },
   "source": []
  },
  {
   "cell_type": "markdown",
   "metadata": {
    "id": "WqLLojLQv_Ch"
   },
   "source": [
    "## Correlation Matrix"
   ]
  },
  {
   "cell_type": "code",
   "execution_count": null,
   "metadata": {
    "colab": {
     "base_uri": "https://localhost:8080/",
     "height": 1000
    },
    "id": "UC5rnxaSwAUI",
    "outputId": "9198bd94-31dc-4de6-aa60-b1784280ed22"
   },
   "outputs": [],
   "source": [
    "# Correlation Matrix\n",
    "# Convert TransactionDate to datetime if it's a string\n",
    "\n",
    "if 'TransactionDate' in df.columns and df['TransactionDate'].dtype == 'object':  # TODO: explain what this does\n",
    "    df['TransactionDate'] = pd.to_datetime(df['TransactionDate'])  # TODO: explain what this does\n",
    "\n",
    "plt.figure(figsize=(12, 10))\n",
    "sns.heatmap(df.select_dtypes(include='number').corr(), annot=True, cmap='coolwarm')  # TODO: explain what this does\n",
    "plt.title('Correlation Matrix Heatmap')\n",
    "plt.show()"
   ]
  },
  {
   "cell_type": "markdown",
   "metadata": {
    "id": "Ne_gWkJUwETA"
   },
   "source": [
    "## Histograms and Boxplots"
   ]
  },
  {
   "cell_type": "code",
   "execution_count": null,
   "metadata": {
    "colab": {
     "base_uri": "https://localhost:8080/",
     "height": 888
    },
    "id": "9M4GiezFwHvC",
    "outputId": "a281bcce-a73b-4c30-be30-bd88bfb17302"
   },
   "outputs": [],
   "source": [
    "# Visualize distribution and spread of numerical features\n",
    "numerical_features = ['TransactionAmount', 'CustomerID']  # TODO: explain what this does\n",
    "for col in numerical_features:\n",
    "    if col in df.columns:\n",
    "        sns.histplot(df[col], kde=True)  # TODO: explain what this does\n",
    "        plt.title(f'Distribution of {col}')\n",
    "        plt.show()\n",
    "        sns.boxplot(y=df[col])  # TODO: explain what this does\n",
    "        plt.title(f'Box Plot of {col}')\n",
    "        plt.show()"
   ]
  },
  {
   "cell_type": "markdown",
   "metadata": {
    "id": "v16n8dtuwPT6"
   },
   "source": [
    "# 4. Data Preprocessing & Feature Engineering"
   ]
  },
  {
   "cell_type": "code",
   "execution_count": null,
   "metadata": {
    "colab": {
     "base_uri": "https://localhost:8080/"
    },
    "id": "4RbV4UhJwUUg",
    "outputId": "646ad095-3500-4291-faad-3bf748ba599d"
   },
   "outputs": [],
   "source": [
    "# Check for duplicate rows\n",
    "duplicate_rows = df[df.duplicated()]  # TODO: explain what this does\n",
    "print(f\"Number of duplicate rows: {len(duplicate_rows)}\")\n"
   ]
  },
  {
   "cell_type": "code",
   "execution_count": null,
   "metadata": {
    "id": "KiInZvRPwQZ6"
   },
   "outputs": [],
   "source": [
    "# Feature engineering: convert date to timestamp and drop original\n",
    "df.drop_duplicates(inplace=True)  # TODO: explain what this does\n",
    "if 'TransactionDate' in df.columns:\n",
    "    df['TransactionDate'] = pd.to_datetime(df['TransactionDate'])  # TODO: explain what this does\n",
    "    df['TransactionTimestamp'] = df['TransactionDate'].astype(int) / 10**9  # TODO: explain what this does\n",
    "    df.drop(columns=['TransactionDate'], inplace=True)  # TODO: explain what this does"
   ]
  },
  {
   "cell_type": "markdown",
   "metadata": {
    "id": "8fFSW-UBwiL9"
   },
   "source": [
    "## Log Transformation"
   ]
  },
  {
   "cell_type": "code",
   "execution_count": null,
   "metadata": {
    "id": "D107Kg3AwjBk"
   },
   "outputs": [],
   "source": [
    "# Apply log transformation to reduce skewness\n",
    "if 'TransactionAmount' in df.columns:\n",
    "    df['TransactionAmount_log'] = np.log1p(df['TransactionAmount'])  # TODO: explain what this does"
   ]
  },
  {
   "cell_type": "markdown",
   "metadata": {
    "id": "OFiK3L0pwnNs"
   },
   "source": [
    "## Encoding"
   ]
  },
  {
   "cell_type": "code",
   "execution_count": null,
   "metadata": {
    "id": "7QvYPt2IwoUT"
   },
   "outputs": [],
   "source": [
    "# Encode categorical columns using LabelEncoder\n",
    "label_enc = LabelEncoder()  # TODO: explain what this does\n",
    "categorical_cols = ['TransactionType', 'Channel', 'CustomerOccupation', 'Location']  # TODO: explain what this does\n",
    "for col in categorical_cols:\n",
    "    if col in df.columns:\n",
    "        df[col] = label_enc.fit_transform(df[col].astype(str))  # TODO: explain what this does"
   ]
  },
  {
   "cell_type": "markdown",
   "metadata": {
    "id": "Orqr9ulHwtTE"
   },
   "source": [
    "## Drop unnecessary columns\n"
   ]
  },
  {
   "cell_type": "code",
   "execution_count": null,
   "metadata": {
    "id": "yfyy1c5hwwaT"
   },
   "outputs": [],
   "source": [
    "# Drop irrelevant or ID-based columns\n",
    "df.drop(columns=['TransactionID', 'AccountID', 'MerchantID', 'DeviceID', 'IP Address'], inplace=True, errors='ignore')  # TODO: explain what this does\n",
    "\n",
    "# Keep only numeric features\n",
    "df = df.select_dtypes(include=['number'])  # TODO: explain what this does"
   ]
  },
  {
   "cell_type": "markdown",
   "metadata": {
    "id": "58J9Hn92w2Xy"
   },
   "source": [
    "# 5. Train-Test Split and SMOTE"
   ]
  },
  {
   "cell_type": "markdown",
   "metadata": {
    "id": "Nv8VRfrj1fL_"
   },
   "source": [
    "Validation Strategy:\n",
    "\n",
    "80/20 stratified train-test split to preserve class balance.\n",
    "\n",
    " XGBoost will also use 3-fold cross-validation in tuning."
   ]
  },
  {
   "cell_type": "code",
   "execution_count": null,
   "metadata": {
    "id": "HAeBz0za1tJx"
   },
   "outputs": [],
   "source": [
    "# Separate features and target\n",
    "X = df.drop(columns=['TransactionType'])  # TODO: explain what this does\n",
    "y = df['TransactionType']  # TODO: explain what this does"
   ]
  },
  {
   "cell_type": "code",
   "execution_count": null,
   "metadata": {
    "id": "101YjRrm1wNZ"
   },
   "outputs": [],
   "source": [
    "# Apply SMOTE to balance class distribution\n",
    "smote = SMOTE(random_state=42)  # TODO: explain what this does\n",
    "X, y = smote.fit_resample(X, y)  # TODO: explain what this does"
   ]
  },
  {
   "cell_type": "code",
   "execution_count": null,
   "metadata": {
    "id": "ELdRAkqS1046"
   },
   "outputs": [],
   "source": [
    "# Split into train and test sets\n",
    "X_train, X_test, y_train, y_test = train_test_split(  # TODO: explain what this does\n",
    "    X, y, test_size=0.2, stratify=y, random_state=42  # TODO: explain what this does\n",
    ")"
   ]
  },
  {
   "cell_type": "code",
   "execution_count": null,
   "metadata": {
    "id": "neFbaj-u14Vv"
   },
   "outputs": [],
   "source": [
    "# Standardize the features\n",
    "scaler = StandardScaler()  # TODO: explain what this does\n",
    "X_train = scaler.fit_transform(X_train)  # TODO: explain what this does\n",
    "X_test = scaler.transform(X_test)  # TODO: explain what this does"
   ]
  },
  {
   "cell_type": "markdown",
   "metadata": {
    "id": "A-mqfVByxAvB"
   },
   "source": [
    "# 6. Model Training: Random Forest & XGBoost"
   ]
  },
  {
   "cell_type": "code",
   "execution_count": null,
   "metadata": {
    "id": "Nwy9mbSm2jxX"
   },
   "outputs": [],
   "source": [
    "# Setup XGBoost with a parameter grid for tuning\n",
    "xgb_model = XGBClassifier()  # TODO: explain what this does\n",
    "param_grid_xgb = {  # TODO: explain what this does\n",
    "    'n_estimators': [100],\n",
    "    'learning_rate': [0.1],\n",
    "    'max_depth': [5]\n",
    "}\n"
   ]
  },
  {
   "cell_type": "code",
   "execution_count": null,
   "metadata": {
    "id": "mNiSa9Ba2m1w"
   },
   "outputs": [],
   "source": [
    "# Use 3-fold cross-validation during GridSearchCV for XGBoost\n",
    "grid_search_xgb = GridSearchCV(  # TODO: explain what this does\n",
    "    xgb_model, param_grid_xgb, scoring='roc_auc', cv=3, n_jobs=-1  # TODO: explain what this does\n",
    ")\n",
    "grid_search_xgb.fit(X_train, y_train)\n",
    "best_xgb = grid_search_xgb.best_estimator_  # TODO: explain what this does"
   ]
  },
  {
   "cell_type": "code",
   "execution_count": null,
   "metadata": {
    "colab": {
     "base_uri": "https://localhost:8080/",
     "height": 80
    },
    "id": "UB7E7TKr2q5B",
    "outputId": "38b76fec-af4a-4ed2-b7fd-7a9605c63b14"
   },
   "outputs": [],
   "source": [
    "# Train Random Forest without hyperparameter tuning\n",
    "rf_model = RandomForestClassifier()  # TODO: explain what this does\n",
    "rf_model.fit(X_train, y_train)"
   ]
  },
  {
   "cell_type": "markdown",
   "metadata": {
    "id": "PMAoWf5HxTgw"
   },
   "source": [
    "# 7. Deep Learning Model: MLP"
   ]
  },
  {
   "cell_type": "code",
   "execution_count": null,
   "metadata": {
    "colab": {
     "base_uri": "https://localhost:8080/"
    },
    "id": "rMmOwUJf2wWW",
    "outputId": "ef8781a2-d36e-459b-81ce-54295df326e4"
   },
   "outputs": [],
   "source": [
    "# Define a simple MLP model with dropout for regularization\n",
    "dl_model = keras.Sequential([  # TODO: explain what this does\n",
    "    keras.layers.Dense(64, activation='relu', input_shape=(X_train.shape[1],)),  # TODO: explain what this does\n",
    "    keras.layers.Dropout(0.3),\n",
    "    keras.layers.Dense(32, activation='relu'),  # TODO: explain what this does\n",
    "    keras.layers.Dense(1, activation='sigmoid')  # For binary classification  # TODO: explain what this does\n",
    "])"
   ]
  },
  {
   "cell_type": "code",
   "execution_count": null,
   "metadata": {
    "colab": {
     "base_uri": "https://localhost:8080/"
    },
    "id": "O-Yxs_Nl2zXQ",
    "outputId": "5d07face-aaa4-4de1-9681-3b4559df073a"
   },
   "outputs": [],
   "source": [
    "# Compile and train the model\n",
    "dl_model.compile(optimizer='adam', loss='binary_crossentropy', metrics=['accuracy'])  # TODO: explain what this does\n",
    "dl_model.fit(X_train, y_train, epochs=10, batch_size=32, verbose=0)  # TODO: explain what this does"
   ]
  },
  {
   "cell_type": "code",
   "execution_count": null,
   "metadata": {
    "colab": {
     "base_uri": "https://localhost:8080/"
    },
    "id": "giWAh_Tn21-2",
    "outputId": "fdcfc45a-1444-44bd-ddb3-36f3ef3954a8"
   },
   "outputs": [],
   "source": [
    "# Get predicted probabilities from the deep learning model\n",
    "y_prob_dl = dl_model.predict(X_test).flatten()  # TODO: explain what this does"
   ]
  },
  {
   "cell_type": "markdown",
   "metadata": {
    "id": "QJZjn_R1xZvw"
   },
   "source": [
    "# 8. Model Evaluation: Metrics & ROC"
   ]
  },
  {
   "cell_type": "code",
   "execution_count": null,
   "metadata": {
    "id": "KwzLYGvBxas2"
   },
   "outputs": [],
   "source": [
    "# Evaluate all three models: XGBoost, Random Forest, Deep Learning\n",
    "models = {  # TODO: explain what this does\n",
    "    'XGBoost': (best_xgb.predict(X_test), best_xgb.predict_proba(X_test)[:, 1]),\n",
    "    'Random Forest': (rf_model.predict(X_test), rf_model.predict_proba(X_test)[:, 1]),\n",
    "    'Deep Learning': ((y_prob_dl > 0.5).astype(int), y_prob_dl)\n",
    "}"
   ]
  },
  {
   "cell_type": "code",
   "execution_count": null,
   "metadata": {
    "colab": {
     "base_uri": "https://localhost:8080/",
     "height": 1000
    },
    "id": "kd4JHTV1xe51",
    "outputId": "7fa76ee2-a4a6-4434-b270-3555b04b695c"
   },
   "outputs": [],
   "source": [
    "# Loop through each model and print evaluation metrics\n",
    "for name, (y_pred, y_prob) in models.items():\n",
    "    print(f\"\\n{name} Evaluation:\")\n",
    "    print(f\"Accuracy: {accuracy_score(y_test, y_pred):.2f}\")\n",
    "    print(classification_report(y_test, y_pred))\n",
    "    print(\"Confusion Matrix:\\n\", confusion_matrix(y_test, y_pred))\n",
    "    print(f\"ROC AUC: {roc_auc_score(y_test, y_prob):.2f}\")\n",
    "\n",
    "     # Plot ROC Curve\n",
    "    fpr, tpr, _ = roc_curve(y_test, y_prob)  # TODO: explain what this does\n",
    "    plt.plot(fpr, tpr, label=f'{name} (AUC = {roc_auc_score(y_test, y_prob):.2f})')\n"
   ]
  },
  {
   "cell_type": "code",
   "execution_count": null,
   "metadata": {
    "colab": {
     "base_uri": "https://localhost:8080/"
    },
    "id": "qura_iQ24FBm",
    "outputId": "7185c2cd-05eb-4bab-ce90-8438faf230db"
   },
   "outputs": [],
   "source": [
    "print(\"Sample y_prob from XGBoost:\", models['XGBoost'][1][:10])\n",
    "print(\"Sample y_test:\", y_test[:10])\n"
   ]
  },
  {
   "cell_type": "code",
   "execution_count": null,
   "metadata": {
    "colab": {
     "base_uri": "https://localhost:8080/",
     "height": 607
    },
    "id": "y5NUYE634Scj",
    "outputId": "26b9db70-c83e-432f-8469-c2721609c6c2"
   },
   "outputs": [],
   "source": [
    "#  Clean & Safe ROC Plot for All Models\n",
    "\n",
    "plt.figure(figsize=(8, 6))\n",
    "\n",
    "# Plot ROC for each model\n",
    "for name, (y_pred, y_prob) in models.items():\n",
    "    try:\n",
    "        fpr, tpr, _ = roc_curve(y_test, y_prob)  # TODO: explain what this does\n",
    "        auc = roc_auc_score(y_test, y_prob)  # TODO: explain what this does\n",
    "        plt.plot(fpr, tpr, label=f\"{name} (AUC = {auc:.2f})\")\n",
    "    except Exception as e:\n",
    "        print(f\"⚠️ Skipping {name} due to error: {e}\")\n",
    "\n",
    "# Add random baseline line\n",
    "plt.plot([0, 1], [0, 1], 'k--', label='Random Chance')\n",
    "\n",
    "plt.title(\"ROC Curves\")\n",
    "plt.xlabel(\"False Positive Rate\")\n",
    "plt.ylabel(\"True Positive Rate\")\n",
    "plt.legend(loc='lower right')\n",
    "plt.grid(True)\n",
    "plt.tight_layout()\n",
    "plt.show()\n"
   ]
  },
  {
   "cell_type": "markdown",
   "metadata": {
    "id": "Vvp74pKXyFID"
   },
   "source": [
    "# 9. Ensemble Model: Soft Voting"
   ]
  },
  {
   "cell_type": "code",
   "execution_count": null,
   "metadata": {
    "id": "kzNcdzcc3NI8"
   },
   "outputs": [],
   "source": [
    "# Average the probabilities from all models and threshold for prediction\n",
    "y_ensemble = (models['XGBoost'][1] + models['Random Forest'][1] + models['Deep Learning'][1]) / 3  # TODO: explain what this does\n",
    "y_pred_ensemble = (y_ensemble > 0.5).astype(int)  # TODO: explain what this does"
   ]
  },
  {
   "cell_type": "code",
   "execution_count": null,
   "metadata": {
    "colab": {
     "base_uri": "https://localhost:8080/"
    },
    "id": "-zoiZ1E23Qdc",
    "outputId": "d9ef7d56-363d-404d-d289-d27c89dee2b4"
   },
   "outputs": [],
   "source": [
    "# Evaluate ensemble performance\n",
    "print(\"\\nEnsemble Model Evaluation:\")\n",
    "print(f\"Accuracy: {accuracy_score(y_test, y_pred_ensemble):.2f}\")\n",
    "print(classification_report(y_test, y_pred_ensemble))\n",
    "print(\"Confusion Matrix:\\n\", confusion_matrix(y_test, y_pred_ensemble))\n",
    "print(f\"Ensemble ROC AUC: {roc_auc_score(y_test, y_ensemble):.2f}\")"
   ]
  },
  {
   "cell_type": "markdown",
   "metadata": {
    "id": "xHcgZvl5yS4k"
   },
   "source": [
    "# 10. Error Analysis"
   ]
  },
  {
   "cell_type": "code",
   "execution_count": null,
   "metadata": {
    "colab": {
     "base_uri": "https://localhost:8080/"
    },
    "id": "XLkOgRpZySP9",
    "outputId": "dfb07b93-e47f-4852-eb31-45669a05f415"
   },
   "outputs": [],
   "source": [
    "# Identify and count misclassified samples\n",
    "misclassified = X_test[(y_pred_ensemble != y_test)]  # TODO: explain what this does\n",
    "print(f\"\\nTotal Misclassified Samples: {len(misclassified)}\")"
   ]
  },
  {
   "cell_type": "markdown",
   "metadata": {
    "id": "K7jkIt1SykWZ"
   },
   "source": [
    "# 11. Learning Curve: Random Forest"
   ]
  },
  {
   "cell_type": "code",
   "execution_count": null,
   "metadata": {
    "id": "Ws-CeBxk3e50"
   },
   "outputs": [],
   "source": [
    "# Plot training vs validation accuracy as training size increases\n",
    "train_sizes, train_scores, test_scores = learning_curve(  # TODO: explain what this does\n",
    "    rf_model, X, y, cv=5, scoring='accuracy',  # TODO: explain what this does\n",
    "    train_sizes=np.linspace(0.1, 1.0, 5), n_jobs=-1  # TODO: explain what this does\n",
    ")"
   ]
  },
  {
   "cell_type": "code",
   "execution_count": null,
   "metadata": {
    "colab": {
     "base_uri": "https://localhost:8080/",
     "height": 472
    },
    "id": "FfAOMyHh3ixO",
    "outputId": "2ac0bb84-ad1f-4b23-e9d4-0d6643ac8a9f"
   },
   "outputs": [],
   "source": [
    "# Plot learning curve\n",
    "train_scores_mean = train_scores.mean(axis=1)  # TODO: explain what this does\n",
    "test_scores_mean = test_scores.mean(axis=1)  # TODO: explain what this does\n",
    "\n",
    "plt.plot(train_sizes, train_scores_mean, label='Training score')\n",
    "plt.plot(train_sizes, test_scores_mean, label='Cross-validation score')\n",
    "plt.title(\"Learning Curve - Random Forest\")\n",
    "plt.xlabel(\"Training Size\")\n",
    "plt.ylabel(\"Accuracy\")\n",
    "plt.legend()\n",
    "plt.grid()\n",
    "plt.show()"
   ]
  },
  {
   "cell_type": "markdown",
   "metadata": {
    "id": "Xd3PXZNfyxR_"
   },
   "source": [
    "# 12. Timing Analysis"
   ]
  },
  {
   "cell_type": "code",
   "execution_count": null,
   "metadata": {
    "colab": {
     "base_uri": "https://localhost:8080/"
    },
    "id": "9qBiF8K9yyKk",
    "outputId": "0775ea00-dbd1-465f-e1b5-95ab0d03b0a6"
   },
   "outputs": [],
   "source": [
    "# Measure time to train and predict using Random Forest\n",
    "start_time = time.time()  # TODO: explain what this does\n",
    "rf_model.fit(X_train, y_train)\n",
    "train_duration = time.time() - start_time  # TODO: explain what this does\n",
    "\n",
    "start_time = time.time()  # TODO: explain what this does\n",
    "_ = rf_model.predict(X_test)  # TODO: explain what this does\n",
    "inference_duration = time.time() - start_time  # TODO: explain what this does\n",
    "\n",
    "print(f\"\\nTraining Time (Random Forest): {train_duration:.2f} sec\")\n",
    "print(f\"Inference Time (Random Forest): {inference_duration:.4f} sec\")"
   ]
  }
 ],
 "metadata": {
  "colab": {
   "provenance": []
  },
  "kernelspec": {
   "display_name": "Python 3",
   "name": "python3"
  },
  "language_info": {
   "name": "python"
  }
 },
 "nbformat": 4,
 "nbformat_minor": 0
}
